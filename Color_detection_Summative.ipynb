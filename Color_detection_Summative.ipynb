{
  "nbformat": 4,
  "nbformat_minor": 0,
  "metadata": {
    "colab": {
      "provenance": []
    },
    "kernelspec": {
      "name": "python3",
      "display_name": "Python 3"
    },
    "language_info": {
      "name": "python"
    }
  },
  "cells": [
    {
      "cell_type": "markdown",
      "source": [
        "#COLOR DETECTION SYSTEM"
      ],
      "metadata": {
        "id": "3tP-gVXGjThJ"
      }
    },
    {
      "cell_type": "markdown",
      "source": [
        "I got the data by searching online on google dataset search.\n",
        "\n",
        "\n",
        "**About the dataset** :This dataset contains 10 class of color, each color class contains 25 images.\n",
        "\n",
        "**Link** :https://www.kaggle.com/datasets/adikurniawan/color-dataset-for-color-recognition\n"
      ],
      "metadata": {
        "id": "oTzUEd9Gjfjp"
      }
    },
    {
      "cell_type": "markdown",
      "source": [
        "**Reading the data**"
      ],
      "metadata": {
        "id": "6yRKyTr0ksFg"
      }
    },
    {
      "cell_type": "code",
      "execution_count": 232,
      "metadata": {
        "id": "H5BGAhYy7Lss"
      },
      "outputs": [],
      "source": [
        "import pandas as pd\n",
        "import numpy as np\n",
        "import os\n",
        "import cv2\n",
        "import matplotlib.pyplot as plt\n",
        "from keras.preprocessing.image import ImageDataGenerator\n",
        "from sklearn.preprocessing import LabelEncoder\n",
        "from sklearn.model_selection import train_test_split\n",
        "from sklearn.metrics import accuracy_score\n",
        "from sklearn.neighbors import KNeighborsClassifier\n",
        "from sklearn.linear_model import LogisticRegression\n",
        "from sklearn.tree import DecisionTreeClassifier\n",
        "from sklearn import svm"
      ]
    },
    {
      "cell_type": "code",
      "source": [
        "from google.colab import drive\n",
        "drive.mount('/content/drive')"
      ],
      "metadata": {
        "colab": {
          "base_uri": "https://localhost:8080/"
        },
        "id": "s0NOMeZMlJhp",
        "outputId": "5ef11b3b-9669-42e4-d549-9c2bca448cd0"
      },
      "execution_count": 233,
      "outputs": [
        {
          "output_type": "stream",
          "name": "stdout",
          "text": [
            "Drive already mounted at /content/drive; to attempt to forcibly remount, call drive.mount(\"/content/drive\", force_remount=True).\n"
          ]
        }
      ]
    },
    {
      "cell_type": "code",
      "source": [
        "data_path= \"/content/drive/MyDrive/training_dataset/\""
      ],
      "metadata": {
        "id": "FEPziMROlMvn"
      },
      "execution_count": 234,
      "outputs": []
    },
    {
      "cell_type": "code",
      "source": [
        "\n",
        "# Get the list of subdirectories in the main directory\n",
        "subdirectories = [subdir for subdir in os.listdir(data_path) if os.path.isdir(os.path.join(data_path, subdir))]\n",
        "\n",
        "# display the first image from the first subdirectory\n",
        "sample_subdirectory = subdirectories[0]\n",
        "sample_image_path = os.path.join(data_path, sample_subdirectory, os.listdir(os.path.join(data_path, sample_subdirectory))[0])\n",
        "\n",
        "# Read the image using plt.imread\n",
        "sample_image = plt.imread(sample_image_path)\n",
        "\n",
        "# Display the image\n",
        "plt.imshow(sample_image)\n",
        "plt.grid(False)\n",
        "plt.title(\"Sample Image\")\n",
        "plt.show()\n"
      ],
      "metadata": {
        "colab": {
          "base_uri": "https://localhost:8080/",
          "height": 452
        },
        "id": "PqBh0fSdmQ23",
        "outputId": "0112765c-7f6e-4cc7-8bda-8960d443115f"
      },
      "execution_count": 235,
      "outputs": [
        {
          "output_type": "display_data",
          "data": {
            "text/plain": [
              "<Figure size 640x480 with 1 Axes>"
            ],
            "image/png": "[encoded data removed]"
          },
          "metadata": {}
        }
      ]
    },
    {
      "cell_type": "markdown",
      "source": [
        "#**Data preprocessing**"
      ],
      "metadata": {
        "id": "8w3J1zzZrKpr"
      }
    },
    {
      "cell_type": "code",
      "source": [
        "# Import necessary libraries\n",
        "from keras.preprocessing.image import ImageDataGenerator\n",
        "import numpy as np\n",
        "\n",
        "# Data augmentation using ImageDataGenerator\n",
        "datagen = ImageDataGenerator(rescale=1./25)\n",
        "\n",
        "# Flow from directory to generate batches of augmented images\n",
        "training_set = datagen.flow_from_directory(\n",
        "    \"/content/drive/MyDrive/training_dataset/\",\n",
        "    target_size=(64, 64),  # Resize images to (64, 64)\n",
        "    batch_size=32  # Batch size for generating augmented images\n",
        ")\n",
        "\n",
        "# Concatenate batches of augmented images to create the training data\n",
        "training_data = np.concatenate([training_set.next()[0] for i in range(training_set.__len__())])\n"
      ],
      "metadata": {
        "colab": {
          "base_uri": "https://localhost:8080/"
        },
        "id": "etRouihXzMfv",
        "outputId": "882f16d2-e9ec-45df-c20a-0b3cd39d6c16"
      },
      "execution_count": 236,
      "outputs": [
        {
          "output_type": "stream",
          "name": "stdout",
          "text": [
            "Found 250 images belonging to 10 classes.\n"
          ]
        }
      ]
    },
    {
      "cell_type": "code",
      "source": [
        "# Initialize lists to store RGB values and corresponding color labels\n",
        "rgb = []\n",
        "color = []\n",
        "\n",
        "# Iterate through directories and files\n",
        "for dirname, _, filenames in os.walk(data_path):\n",
        "    for filename in filenames:\n",
        "        # Construct the full path to the image\n",
        "        image_path = os.path.join(dirname, filename)\n",
        "\n",
        "        # Read the image using OpenCV and convert the color to RGB\n",
        "        image = cv2.cvtColor(cv2.imread(image_path), cv2.COLOR_BGR2RGB)\n",
        "\n",
        "        # Append the RGB value of the first pixel (top-left corner) to the 'rgb' list\n",
        "        rgb.append(image[0][0])\n",
        "\n",
        "        # Append the corresponding color label to the 'color' list\n",
        "        color.append(dirname[40:])\n"
      ],
      "metadata": {
        "id": "uk2vs6SUrHc2"
      },
      "execution_count": 237,
      "outputs": []
    },
    {
      "cell_type": "code",
      "source": [
        "#creating a dataframe of my data\n",
        "x = pd.DataFrame(np.array(rgb), columns=['red', 'green', 'blue'])\n",
        "y = pd.DataFrame({'color': color})\n",
        "print(x)\n",
        "print(y)"
      ],
      "metadata": {
        "colab": {
          "base_uri": "https://localhost:8080/"
        },
        "id": "hinP8d2Lw1XU",
        "outputId": "ede27b7b-70dd-47cf-aa11-a56cb6053bb4"
      },
      "execution_count": 238,
      "outputs": [
        {
          "output_type": "stream",
          "name": "stdout",
          "text": [
            "     red  green  blue\n",
            "0     84    172   104\n",
            "1    123    252     1\n",
            "2     51    184   100\n",
            "3      0    100     0\n",
            "4    118    181   131\n",
            "..   ...    ...   ...\n",
            "245  255    122     1\n",
            "246  255    103     0\n",
            "247  255    117    24\n",
            "248  255     95     0\n",
            "249  255    127     0\n",
            "\n",
            "[250 rows x 3 columns]\n",
            "      color\n",
            "0     green\n",
            "1     green\n",
            "2     green\n",
            "3     green\n",
            "4     green\n",
            "..      ...\n",
            "245  orange\n",
            "246  orange\n",
            "247  orange\n",
            "248  orange\n",
            "249  orange\n",
            "\n",
            "[250 rows x 1 columns]\n"
          ]
        }
      ]
    },
    {
      "cell_type": "code",
      "source": [
        "# Convert lists 'rgb' and 'color' to NumPy arrays\n",
        "x = np.array(rgb)\n",
        "y = np.array(color)\n",
        "\n",
        "# Display the shape of the arrays\n",
        "print(\"Shape of x (RGB values):\", x.shape)\n",
        "print(\"Shape of y (Color labels):\", y.shape)\n"
      ],
      "metadata": {
        "colab": {
          "base_uri": "https://localhost:8080/"
        },
        "id": "24QZtzzkw9sx",
        "outputId": "e8aa2094-d15c-431d-d667-ec8de69cb801"
      },
      "execution_count": 239,
      "outputs": [
        {
          "output_type": "stream",
          "name": "stdout",
          "text": [
            "Shape of x (RGB values): (250, 3)\n",
            "Shape of y (Color labels): (250,)\n"
          ]
        }
      ]
    },
    {
      "cell_type": "code",
      "source": [
        "#Turn the label into numerical values\n",
        "label_encoder = LabelEncoder()\n",
        "y = label_encoder.fit_transform(y)"
      ],
      "metadata": {
        "id": "grMQdHCd0OCH"
      },
      "execution_count": 240,
      "outputs": []
    },
    {
      "cell_type": "markdown",
      "source": [
        "#**Model**"
      ],
      "metadata": {
        "id": "rNauoLjJ21Nz"
      }
    },
    {
      "cell_type": "markdown",
      "source": [
        "Using KNN is the best suitated for the task because of my approach to the task K-NN algorithm classifies a data point by considering the majority class among its k-nearest neighbors.  I'm using  it because i'm trying to train the model to recognize color based on rgb value therefore it needs to find the closest value."
      ],
      "metadata": {
        "id": "KPIFmVH8YaAP"
      }
    },
    {
      "cell_type": "code",
      "source": [
        "#Split data into training data\n",
        "X_train, X_test, y_train, y_test = train_test_split(x, y, test_size=0.2, random_state=42)\n"
      ],
      "metadata": {
        "id": "T2PZQAtN0UTH"
      },
      "execution_count": 241,
      "outputs": []
    },
    {
      "cell_type": "code",
      "source": [
        "\n",
        "from imblearn.over_sampling import RandomOverSampler\n",
        "from sklearn.model_selection import train_test_split\n",
        "from sklearn.neighbors import KNeighborsClassifier\n",
        "from sklearn.metrics import accuracy_score, classification_report\n",
        "\n",
        "\n",
        "# Use RandomOverSampler to oversample minority classes in the training set\n",
        "oversampler = RandomOverSampler(random_state=42)\n",
        "X_train_resampled, y_train_resampled = oversampler.fit_resample(X_train, y_train)\n",
        "\n",
        "# Create the KNeighborsClassifier with default hyperparameters\n",
        "knn = KNeighborsClassifier()\n",
        "\n",
        "# Fit the model to the resampled training data\n",
        "knn.fit(X_train_resampled, y_train_resampled)\n",
        "\n",
        "# Make predictions on the test set\n",
        "y_pred = knn.predict(X_test)\n",
        "\n",
        "# Calculate and print the accuracy\n",
        "accuracy = accuracy_score(y_test, y_pred)\n",
        "print(\"Accuracy:\", accuracy)\n",
        "\n",
        "# Print classification report\n",
        "print(\"Classification Report:\")\n",
        "print(classification_report(y_test, y_pred))\n"
      ],
      "metadata": {
        "colab": {
          "base_uri": "https://localhost:8080/"
        },
        "id": "XrzY3XFL5B6F",
        "outputId": "b60a78d3-5ca8-49d4-ede4-9dd5f72786e5"
      },
      "execution_count": 242,
      "outputs": [
        {
          "output_type": "stream",
          "name": "stdout",
          "text": [
            "Accuracy: 0.84\n",
            "Classification Report:\n",
            "              precision    recall  f1-score   support\n",
            "\n",
            "           0       1.00      1.00      1.00         2\n",
            "           1       0.88      0.78      0.82         9\n",
            "           2       0.80      0.80      0.80         5\n",
            "           3       1.00      0.50      0.67         8\n",
            "           4       0.50      1.00      0.67         5\n",
            "           5       1.00      1.00      1.00         3\n",
            "           6       1.00      1.00      1.00         2\n",
            "           7       1.00      1.00      1.00         6\n",
            "           8       0.88      1.00      0.93         7\n",
            "           9       1.00      0.67      0.80         3\n",
            "\n",
            "    accuracy                           0.84        50\n",
            "   macro avg       0.91      0.87      0.87        50\n",
            "weighted avg       0.89      0.84      0.84        50\n",
            "\n"
          ]
        }
      ]
    },
    {
      "cell_type": "markdown",
      "source": [
        "#**Hypertunning of the model**"
      ],
      "metadata": {
        "id": "FRgZw7fR-F05"
      }
    },
    {
      "cell_type": "code",
      "source": [
        "from sklearn.model_selection import GridSearchCV\n",
        "from sklearn.neighbors import KNeighborsClassifier\n",
        "from sklearn.model_selection import train_test_split\n",
        "from sklearn.metrics import accuracy_score\n",
        "\n",
        "# Define the parameter grid\n",
        "param_grid = {'n_neighbors': range(1, 31), 'weights': ['distance'], 'metric': ['euclidean']}\n",
        "\n",
        "# Create the KNeighborsClassifier\n",
        "knn = KNeighborsClassifier()\n",
        "\n",
        "# Create the GridSearchCV object\n",
        "grid_search = GridSearchCV(knn, param_grid, cv=5, scoring='accuracy')\n",
        "\n",
        "# Fit the model to the data\n",
        "grid_search.fit(X_train_resampled, y_train_resampled)\n",
        "\n",
        "# Get the best parameters\n",
        "best_params = grid_search.best_params_\n",
        "\n",
        "# Create the KNeighborsClassifier with the best parameters\n",
        "best_knn = KNeighborsClassifier(n_neighbors=best_params['n_neighbors'], weights=best_params['weights'], metric=best_params['metric'])\n",
        "\n",
        "# Fit the best model to the data\n",
        "best_knn.fit(X_train_resampled, y_train_resampled)\n",
        "\n",
        "# Make predictions on the test set\n",
        "y_pred = best_knn.predict(X_test)\n",
        "\n",
        "# Print the best parameters and accuracy\n",
        "print(\"Best Parameters:\", best_params)\n",
        "print(\"Accuracy:\", accuracy_score(y_test, y_pred))\n"
      ],
      "metadata": {
        "colab": {
          "base_uri": "https://localhost:8080/"
        },
        "id": "hfdIjfLU8Ntx",
        "outputId": "748745b1-b936-4819-f76f-7df0eef2abac"
      },
      "execution_count": 243,
      "outputs": [
        {
          "output_type": "stream",
          "name": "stdout",
          "text": [
            "Best Parameters: {'metric': 'euclidean', 'n_neighbors': 1, 'weights': 'distance'}\n",
            "Accuracy: 0.9\n"
          ]
        }
      ]
    },
    {
      "cell_type": "code",
      "source": [
        "#using best parameter for the model\n",
        "knn = KNeighborsClassifier(n_neighbors=1, weights='distance', metric='euclidean')\n",
        "\n",
        "# Fit the model to the resampled training data\n",
        "knn.fit(X_train_resampled, y_train_resampled)\n",
        "\n",
        "# Make predictions on the test set\n",
        "y_pred = knn.predict(X_test)\n",
        "\n",
        "# Calculate and print the accuracy\n",
        "accuracy = accuracy_score(y_test, y_pred)\n",
        "print(\"Accuracy:\", accuracy)\n",
        "\n",
        "# Print classification report\n",
        "print(\"Classification Report:\")\n",
        "print(classification_report(y_test, y_pred))\n"
      ],
      "metadata": {
        "colab": {
          "base_uri": "https://localhost:8080/"
        },
        "id": "CPJEDX-Q8RvH",
        "outputId": "8d21d01c-2cfc-45e7-dab0-94729dac4f35"
      },
      "execution_count": 244,
      "outputs": [
        {
          "output_type": "stream",
          "name": "stdout",
          "text": [
            "Accuracy: 0.9\n",
            "Classification Report:\n",
            "              precision    recall  f1-score   support\n",
            "\n",
            "           0       1.00      1.00      1.00         2\n",
            "           1       1.00      0.78      0.88         9\n",
            "           2       0.80      0.80      0.80         5\n",
            "           3       1.00      0.88      0.93         8\n",
            "           4       0.62      1.00      0.77         5\n",
            "           5       1.00      1.00      1.00         3\n",
            "           6       1.00      1.00      1.00         2\n",
            "           7       1.00      1.00      1.00         6\n",
            "           8       0.88      1.00      0.93         7\n",
            "           9       1.00      0.67      0.80         3\n",
            "\n",
            "    accuracy                           0.90        50\n",
            "   macro avg       0.93      0.91      0.91        50\n",
            "weighted avg       0.93      0.90      0.90        50\n",
            "\n"
          ]
        }
      ]
    },
    {
      "cell_type": "markdown",
      "source": [
        "Accuracy: The overall accuracy of the model is 90%.\n",
        "\n",
        "Precision: Precision is high for most classes, especially for classes 0, 1, 3, 5, 6, 7, and 9. This means that when the model predicts a certain class, it is often correct.\n",
        "\n",
        "Recall: Recall measures the model's ability to capture all instances of a particular class. It is high for classes 0, 3, 5, 6, 7, and 8. However, it is lower for class 1 and class 9.\n",
        "\n",
        "F1-score: The F1-score is high for most classes, with class 0 achieving a perfect score.\n"
      ],
      "metadata": {
        "id": "VW8uONQoE5fI"
      }
    },
    {
      "cell_type": "code",
      "source": [
        "import seaborn as sns\n",
        "import matplotlib.pyplot as plt\n",
        "from sklearn.metrics import confusion_matrix\n",
        "# Calculate confusion matrix\n",
        "conf_matrix = confusion_matrix(y_test, y_pred)\n",
        "\n",
        "# Display confusion matrix using seaborn heatmap\n",
        "plt.figure(figsize=(8, 6))\n",
        "sns.heatmap(conf_matrix, annot=True, fmt=\"d\", cmap=\"Blues\", xticklabels=knn.classes_, yticklabels=knn.classes_)\n",
        "plt.title(\"Confusion Matrix\")\n",
        "plt.xlabel(\"Predicted\")\n",
        "plt.ylabel(\"Actual\")\n",
        "plt.show()\n"
      ],
      "metadata": {
        "colab": {
          "base_uri": "https://localhost:8080/",
          "height": 564
        },
        "id": "7Xs-TQPNAvTP",
        "outputId": "2f81eba3-8c1e-40cc-a0cc-7a8575e3798f"
      },
      "execution_count": 245,
      "outputs": [
        {
          "output_type": "display_data",
          "data": {
            "text/plain": [
              "<Figure size 800x600 with 2 Axes>"
            ],
            "image/png": "[encoded data removed]"
          },
          "metadata": {}
        }
      ]
    },
    {
      "cell_type": "code",
      "source": [
        "label_mapping = dict(zip(label_encoder.classes_, range(len(label_encoder.classes_))))\n",
        "print(\"Label Mapping:\", label_mapping)"
      ],
      "metadata": {
        "colab": {
          "base_uri": "https://localhost:8080/"
        },
        "id": "JAVOy6kfa4Cg",
        "outputId": "af0bbd3e-332f-4fb4-f76d-430d27cdd9e4"
      },
      "execution_count": 246,
      "outputs": [
        {
          "output_type": "stream",
          "name": "stdout",
          "text": [
            "Label Mapping: {'black': 0, 'blue': 1, 'brown': 2, 'green': 3, 'grey': 4, 'orange': 5, 'red': 6, 'violet': 7, 'white': 8, 'yellow': 9}\n"
          ]
        }
      ]
    },
    {
      "cell_type": "markdown",
      "source": [
        "The confusion matrix show that the model is able to recognize most colors but can predict falsely on some cases like class 4,2and 8"
      ],
      "metadata": {
        "id": "WJ3yvogBaa60"
      }
    },
    {
      "cell_type": "code",
      "source": [
        "from sklearn.metrics import mean_absolute_error, mean_squared_error\n",
        "mae = mean_absolute_error(y_test, y_pred)\n",
        "print(f'MAE: {mae}')\n",
        "\n"
      ],
      "metadata": {
        "colab": {
          "base_uri": "https://localhost:8080/"
        },
        "id": "FST7h4-8FwzU",
        "outputId": "819da476-4560-4144-c44a-85741951f62f"
      },
      "execution_count": 247,
      "outputs": [
        {
          "output_type": "stream",
          "name": "stdout",
          "text": [
            "MAE: 0.2\n"
          ]
        }
      ]
    },
    {
      "cell_type": "markdown",
      "source": [
        "MAE of 0.2  suggests that, on average, the model's predictions are quite close to the actual values, and the errors are not very large."
      ],
      "metadata": {
        "id": "gAgFG9dPGV8l"
      }
    },
    {
      "cell_type": "code",
      "source": [
        "\n",
        "# Lists to store training and validation accuracies\n",
        "training_accuracies = []\n",
        "validation_accuracies = []\n",
        "\n",
        "# Number of cycles through the dataset (you can choose this value)\n",
        "num_cycles = 10\n",
        "\n",
        "for cycle in range(num_cycles):\n",
        "    # Train the model on the resampled training set\n",
        "    knn.fit(X_train_resampled, y_train_resampled)\n",
        "\n",
        "    # Predict on the training set and calculate training accuracy\n",
        "    y_train_pred = knn.predict(X_train_resampled)\n",
        "    training_accuracy = accuracy_score(y_train_resampled, y_train_pred)\n",
        "    training_accuracies.append(training_accuracy)\n",
        "\n",
        "    # Predict on the validation set and calculate validation accuracy\n",
        "    y_val_pred = knn.predict(X_test)\n",
        "    validation_accuracy = accuracy_score(y_test, y_val_pred)\n",
        "    validation_accuracies.append(validation_accuracy)\n",
        "\n",
        "    # Optionally, print or log the training and validation accuracies\n",
        "\n",
        "# Plot the training and validation accuracies over cycles\n",
        "plt.plot(training_accuracies, label='Training Accuracy')\n",
        "plt.plot(validation_accuracies, label='Validation Accuracy')\n",
        "plt.xlabel('Cycle')\n",
        "plt.ylabel('Accuracy')\n",
        "plt.legend()\n",
        "plt.show()\n",
        "\n",
        "# Finally, make predictions on the test set and print classification report\n",
        "y_pred = knn.predict(X_test)\n",
        "print(\"Classification Report:\")\n",
        "print(classification_report(y_test, y_pred))\n"
      ],
      "metadata": {
        "colab": {
          "base_uri": "https://localhost:8080/",
          "height": 761
        },
        "id": "oFzuC8lGGUMV",
        "outputId": "c74827dd-23cd-4d72-a3b5-6c515b17121b"
      },
      "execution_count": 248,
      "outputs": [
        {
          "output_type": "display_data",
          "data": {
            "text/plain": [
              "<Figure size 640x480 with 1 Axes>"
            ],
            "image/png": "[encoded data removed]"
          },
          "metadata": {}
        },
        {
          "output_type": "stream",
          "name": "stdout",
          "text": [
            "Classification Report:\n",
            "              precision    recall  f1-score   support\n",
            "\n",
            "           0       1.00      1.00      1.00         2\n",
            "           1       1.00      0.78      0.88         9\n",
            "           2       0.80      0.80      0.80         5\n",
            "           3       1.00      0.88      0.93         8\n",
            "           4       0.62      1.00      0.77         5\n",
            "           5       1.00      1.00      1.00         3\n",
            "           6       1.00      1.00      1.00         2\n",
            "           7       1.00      1.00      1.00         6\n",
            "           8       0.88      1.00      0.93         7\n",
            "           9       1.00      0.67      0.80         3\n",
            "\n",
            "    accuracy                           0.90        50\n",
            "   macro avg       0.93      0.91      0.91        50\n",
            "weighted avg       0.93      0.90      0.90        50\n",
            "\n"
          ]
        }
      ]
    },
    {
      "cell_type": "markdown",
      "source": [
        "The learning graph shows that there no apparent overfitting or underfitting in the model."
      ],
      "metadata": {
        "id": "LXAoKVaJJa9Z"
      }
    },
    {
      "cell_type": "code",
      "source": [
        "import pickle\n",
        "\n",
        "\n",
        "model_filename = 'model.pkl'\n",
        "with open(model_filename, 'wb') as file:\n",
        "    pickle.dump(knn, file)\n",
        "\n"
      ],
      "metadata": {
        "id": "WJuYE5qcJ2gO"
      },
      "execution_count": 249,
      "outputs": []
    },
    {
      "cell_type": "code",
      "source": [
        "from google.colab import files\n",
        "\n",
        "files.download('model.pkl')\n"
      ],
      "metadata": {
        "colab": {
          "base_uri": "https://localhost:8080/",
          "height": 17
        },
        "id": "rQdmMf34KzsM",
        "outputId": "6213349f-5e34-4788-e6b1-265c29133a19"
      },
      "execution_count": 250,
      "outputs": [
        {
          "output_type": "display_data",
          "data": {
            "text/plain": [
              "<IPython.core.display.Javascript object>"
            ],
            "application/javascript": [
              "\n",
              "    async function download(id, filename, size) {\n",
              "      if (!google.colab.kernel.accessAllowed) {\n",
              "        return;\n",
              "      }\n",
              "      const div = document.createElement('div');\n",
              "      const label = document.createElement('label');\n",
              "      label.textContent = `Downloading \"${filename}\": `;\n",
              "      div.appendChild(label);\n",
              "      const progress = document.createElement('progress');\n",
              "      progress.max = size;\n",
              "      div.appendChild(progress);\n",
              "      document.body.appendChild(div);\n",
              "\n",
              "      const buffers = [];\n",
              "      let downloaded = 0;\n",
              "\n",
              "      const channel = await google.colab.kernel.comms.open(id);\n",
              "      // Send a message to notify the kernel that we're ready.\n",
              "      channel.send({})\n",
              "\n",
              "      for await (const message of channel.messages) {\n",
              "        // Send a message to notify the kernel that we're ready.\n",
              "        channel.send({})\n",
              "        if (message.buffers) {\n",
              "          for (const buffer of message.buffers) {\n",
              "            buffers.push(buffer);\n",
              "            downloaded += buffer.byteLength;\n",
              "            progress.value = downloaded;\n",
              "          }\n",
              "        }\n",
              "      }\n",
              "      const blob = new Blob(buffers, {type: 'application/binary'});\n",
              "      const a = document.createElement('a');\n",
              "      a.href = window.URL.createObjectURL(blob);\n",
              "      a.download = filename;\n",
              "      div.appendChild(a);\n",
              "      a.click();\n",
              "      div.remove();\n",
              "    }\n",
              "  "
            ]
          },
          "metadata": {}
        },
        {
          "output_type": "display_data",
          "data": {
            "text/plain": [
              "<IPython.core.display.Javascript object>"
            ],
            "application/javascript": [
              "download(\"download_614be1f2-26d2-4d60-ad58-7374e1be4805\", \"model.pkl\", 11720)"
            ]
          },
          "metadata": {}
        }
      ]
    }
  ]
}